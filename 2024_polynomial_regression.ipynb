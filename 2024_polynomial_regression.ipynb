{
  "nbformat": 4,
  "nbformat_minor": 0,
  "metadata": {
    "colab": {
      "provenance": [],
      "authorship_tag": "ABX9TyNWlqgt8P/cQC3LywyyzLmI",
      "include_colab_link": true
    },
    "kernelspec": {
      "name": "python3",
      "display_name": "Python 3"
    },
    "language_info": {
      "name": "python"
    }
  },
  "cells": [
    {
      "cell_type": "markdown",
      "metadata": {
        "id": "view-in-github",
        "colab_type": "text"
      },
      "source": [
        "<a href=\"https://colab.research.google.com/github/gompaalisha/ML_codes/blob/main/2024_polynomial_regression.ipynb\" target=\"_parent\"><img src=\"https://colab.research.google.com/assets/colab-badge.svg\" alt=\"Open In Colab\"/></a>"
      ]
    },
    {
      "cell_type": "code",
      "execution_count": null,
      "metadata": {
        "id": "ZagqWcToLuP_"
      },
      "outputs": [],
      "source": [
        "import numpy as np\n",
        "import pandas as pd\n",
        "import matplotlib.pyplot as plt"
      ]
    },
    {
      "cell_type": "code",
      "source": [
        "x=6*np.random.rand(100,1)-3\n",
        "y=0.5*x**2+1.5*x+2+6*np.random.rand(100,1)-3"
      ],
      "metadata": {
        "id": "nO3_lmQBPRY8"
      },
      "execution_count": null,
      "outputs": []
    },
    {
      "cell_type": "code",
      "source": [
        "import pandas as pd\n",
        "from sklearn.preprocessing import MinMaxScaler\n",
        "\n",
        "# Load your dataset (replacing our actual data)\n",
        "\n",
        "\n",
        "# Normalize the \"YearsExperience\" column\n",
        "scaler = MinMaxScaler()\n",
        "df1 = scaler.fit_transform(y)\n",
        "\n",
        "# Check the first few rows of the dataframe\n",
        "df1\n"
      ],
      "metadata": {
        "id": "s8uWKis1JbgS",
        "colab": {
          "base_uri": "https://localhost:8080/"
        },
        "outputId": "cf38aa17-20e6-44a4-c825-2527e241aa16"
      },
      "execution_count": null,
      "outputs": [
        {
          "output_type": "execute_result",
          "data": {
            "text/plain": [
              "array([[0.11148939],\n",
              "       [0.30930317],\n",
              "       [0.10979309],\n",
              "       [0.3772417 ],\n",
              "       [0.09644549],\n",
              "       [0.3748293 ],\n",
              "       [0.35208143],\n",
              "       [0.48459397],\n",
              "       [0.20617843],\n",
              "       [1.        ],\n",
              "       [0.37527072],\n",
              "       [0.42231394],\n",
              "       [0.23861891],\n",
              "       [0.38084495],\n",
              "       [0.12133026],\n",
              "       [0.38013988],\n",
              "       [0.64011106],\n",
              "       [0.41690304],\n",
              "       [0.50287565],\n",
              "       [0.38692044],\n",
              "       [0.44840361],\n",
              "       [0.75651502],\n",
              "       [0.43527492],\n",
              "       [0.32196969],\n",
              "       [0.78168114],\n",
              "       [0.35293002],\n",
              "       [0.33629946],\n",
              "       [0.32071329],\n",
              "       [0.0236637 ],\n",
              "       [0.55846103],\n",
              "       [0.36512521],\n",
              "       [0.26652223],\n",
              "       [0.37663574],\n",
              "       [0.57194989],\n",
              "       [0.39217329],\n",
              "       [0.35933784],\n",
              "       [0.30002544],\n",
              "       [0.36482901],\n",
              "       [0.06173954],\n",
              "       [0.56345332],\n",
              "       [0.079342  ],\n",
              "       [0.4337977 ],\n",
              "       [0.41975244],\n",
              "       [0.54086821],\n",
              "       [0.19267385],\n",
              "       [0.11157802],\n",
              "       [0.21448053],\n",
              "       [0.14741608],\n",
              "       [0.50605899],\n",
              "       [0.43011258],\n",
              "       [0.42966479],\n",
              "       [0.25228506],\n",
              "       [0.34917199],\n",
              "       [0.27340602],\n",
              "       [0.20015853],\n",
              "       [0.41128741],\n",
              "       [0.14693973],\n",
              "       [0.33590434],\n",
              "       [0.20057986],\n",
              "       [0.2789765 ],\n",
              "       [0.36170375],\n",
              "       [0.68576288],\n",
              "       [0.        ],\n",
              "       [0.35441839],\n",
              "       [0.46722907],\n",
              "       [0.16790352],\n",
              "       [0.42616927],\n",
              "       [0.72609581],\n",
              "       [0.09582758],\n",
              "       [0.78740622],\n",
              "       [0.38697005],\n",
              "       [0.26419318],\n",
              "       [0.26519126],\n",
              "       [0.21322289],\n",
              "       [0.27117622],\n",
              "       [0.22555773],\n",
              "       [0.58274463],\n",
              "       [0.17535416],\n",
              "       [0.07397761],\n",
              "       [0.36482488],\n",
              "       [0.65611197],\n",
              "       [0.10552412],\n",
              "       [0.22976122],\n",
              "       [0.2724497 ],\n",
              "       [0.55506289],\n",
              "       [0.15766523],\n",
              "       [0.49339469],\n",
              "       [0.74094083],\n",
              "       [0.55257801],\n",
              "       [0.41827192],\n",
              "       [0.28601621],\n",
              "       [0.36221247],\n",
              "       [0.09409138],\n",
              "       [0.31285352],\n",
              "       [0.3316681 ],\n",
              "       [0.11681959],\n",
              "       [0.7787994 ],\n",
              "       [0.54292065],\n",
              "       [0.20859133],\n",
              "       [0.19878996]])"
            ]
          },
          "metadata": {},
          "execution_count": 55
        }
      ]
    },
    {
      "cell_type": "code",
      "source": [
        "import pandas as pd\n",
        "from sklearn.preprocessing import MinMaxScaler\n",
        "\n",
        "# Load your dataset (replacing our actual data)\n",
        "\n",
        "\n",
        "# Normalize the \"YearsExperience\" column\n",
        "scaler = MinMaxScaler()\n",
        "df = scaler.fit_transform(x)\n",
        "\n",
        "# Check the first few rows of the dataframe\n",
        "df\n"
      ],
      "metadata": {
        "id": "HZvlo_N6JMir",
        "colab": {
          "base_uri": "https://localhost:8080/"
        },
        "outputId": "ab39c1d8-5520-42f4-a8c1-510dfc4b602e"
      },
      "execution_count": null,
      "outputs": [
        {
          "output_type": "execute_result",
          "data": {
            "text/plain": [
              "array([[0.2991031 ],\n",
              "       [0.75376076],\n",
              "       [0.03051162],\n",
              "       [0.56024101],\n",
              "       [0.43129912],\n",
              "       [0.47493365],\n",
              "       [0.13909645],\n",
              "       [0.59968704],\n",
              "       [0.01007033],\n",
              "       [1.        ],\n",
              "       [0.02442237],\n",
              "       [0.75073121],\n",
              "       [0.55999842],\n",
              "       [0.28088605],\n",
              "       [0.1729361 ],\n",
              "       [0.80812969],\n",
              "       [0.89184011],\n",
              "       [0.71896537],\n",
              "       [0.62416572],\n",
              "       [0.66012598],\n",
              "       [0.64376564],\n",
              "       [0.9981669 ],\n",
              "       [0.72684571],\n",
              "       [0.71442285],\n",
              "       [0.86568266],\n",
              "       [0.40155561],\n",
              "       [0.51158041],\n",
              "       [0.48064436],\n",
              "       [0.31538685],\n",
              "       [0.76319258],\n",
              "       [0.42031333],\n",
              "       [0.44012392],\n",
              "       [0.59609441],\n",
              "       [0.66763278],\n",
              "       [0.68379789],\n",
              "       [0.31009101],\n",
              "       [0.21361923],\n",
              "       [0.14552759],\n",
              "       [0.31310266],\n",
              "       [0.81053003],\n",
              "       [0.37006922],\n",
              "       [0.83140508],\n",
              "       [0.08075305],\n",
              "       [0.87091976],\n",
              "       [0.64329572],\n",
              "       [0.26197135],\n",
              "       [0.52532502],\n",
              "       [0.42303444],\n",
              "       [0.74417586],\n",
              "       [0.70481023],\n",
              "       [0.50725021],\n",
              "       [0.6985689 ],\n",
              "       [0.23337974],\n",
              "       [0.14485061],\n",
              "       [0.23377719],\n",
              "       [0.55958412],\n",
              "       [0.13784692],\n",
              "       [0.52864248],\n",
              "       [0.63482485],\n",
              "       [0.2656168 ],\n",
              "       [0.03336821],\n",
              "       [0.76338841],\n",
              "       [0.20509047],\n",
              "       [0.08587347],\n",
              "       [0.74924359],\n",
              "       [0.62331759],\n",
              "       [0.54656523],\n",
              "       [0.8458411 ],\n",
              "       [0.37185276],\n",
              "       [0.86324776],\n",
              "       [0.73423961],\n",
              "       [0.48741227],\n",
              "       [0.48346192],\n",
              "       [0.22819923],\n",
              "       [0.04527936],\n",
              "       [0.34303792],\n",
              "       [0.77483987],\n",
              "       [0.5291642 ],\n",
              "       [0.41983602],\n",
              "       [0.        ],\n",
              "       [0.76271138],\n",
              "       [0.10005084],\n",
              "       [0.05606589],\n",
              "       [0.50332157],\n",
              "       [0.69646652],\n",
              "       [0.53556318],\n",
              "       [0.75234798],\n",
              "       [0.79928183],\n",
              "       [0.85818817],\n",
              "       [0.52573278],\n",
              "       [0.67203565],\n",
              "       [0.63587748],\n",
              "       [0.06534336],\n",
              "       [0.62493607],\n",
              "       [0.21800412],\n",
              "       [0.02596006],\n",
              "       [0.86123957],\n",
              "       [0.76401364],\n",
              "       [0.27833516],\n",
              "       [0.2100344 ]])"
            ]
          },
          "metadata": {},
          "execution_count": 56
        }
      ]
    },
    {
      "cell_type": "code",
      "source": [
        "type(x)"
      ],
      "metadata": {
        "id": "2SPV2qc3Pfps",
        "colab": {
          "base_uri": "https://localhost:8080/"
        },
        "outputId": "d706cf96-af1d-4d6f-bd4b-cb49b8479bc3"
      },
      "execution_count": null,
      "outputs": [
        {
          "output_type": "execute_result",
          "data": {
            "text/plain": [
              "numpy.ndarray"
            ]
          },
          "metadata": {},
          "execution_count": 57
        }
      ]
    },
    {
      "cell_type": "code",
      "source": [
        "y"
      ],
      "metadata": {
        "id": "M56uUXNXP-XY",
        "colab": {
          "base_uri": "https://localhost:8080/"
        },
        "outputId": "8ee9f6f5-a15a-46b1-ca7b-e4ada414b4f1"
      },
      "execution_count": null,
      "outputs": [
        {
          "output_type": "execute_result",
          "data": {
            "text/plain": [
              "array([[-0.44042874],\n",
              "       [ 2.49213756],\n",
              "       [-0.4655762 ],\n",
              "       [ 3.49931834],\n",
              "       [-0.66345274],\n",
              "       [ 3.46355483],\n",
              "       [ 3.12632028],\n",
              "       [ 5.09080333],\n",
              "       [ 0.96332526],\n",
              "       [12.7316377 ],\n",
              "       [ 3.47009887],\n",
              "       [ 4.16750913],\n",
              "       [ 1.44425169],\n",
              "       [ 3.5527361 ],\n",
              "       [-0.29453899],\n",
              "       [ 3.54228352],\n",
              "       [ 7.39632604],\n",
              "       [ 4.0872931 ],\n",
              "       [ 5.36182704],\n",
              "       [ 3.64280457],\n",
              "       [ 4.55428536],\n",
              "       [ 9.12200126],\n",
              "       [ 4.35965409],\n",
              "       [ 2.67991726],\n",
              "       [ 9.49508605],\n",
              "       [ 3.13890045],\n",
              "       [ 2.89235445],\n",
              "       [ 2.66129128],\n",
              "       [-1.74243436],\n",
              "       [ 6.18587378],\n",
              "       [ 3.31969276],\n",
              "       [ 1.85791507],\n",
              "       [ 3.49033507],\n",
              "       [ 6.3858446 ],\n",
              "       [ 3.72067739],\n",
              "       [ 3.23389573],\n",
              "       [ 2.35459625],\n",
              "       [ 3.3153017 ],\n",
              "       [-1.1779644 ],\n",
              "       [ 6.25988399],\n",
              "       [-0.91701   ],\n",
              "       [ 4.33775447],\n",
              "       [ 4.12953513],\n",
              "       [ 5.92506229],\n",
              "       [ 0.76312142],\n",
              "       [-0.43911474],\n",
              "       [ 1.08640299],\n",
              "       [ 0.09218031],\n",
              "       [ 5.40901973],\n",
              "       [ 4.28312303],\n",
              "       [ 4.27648458],\n",
              "       [ 1.64685072],\n",
              "       [ 3.08318817],\n",
              "       [ 1.95996649],\n",
              "       [ 0.87408103],\n",
              "       [ 4.00404206],\n",
              "       [ 0.08511841],\n",
              "       [ 2.88649673],\n",
              "       [ 0.88032705],\n",
              "       [ 2.04254817],\n",
              "       [ 3.26897008],\n",
              "       [ 8.07310896],\n",
              "       [-2.09324597],\n",
              "       [ 3.16096547],\n",
              "       [ 4.8333706 ],\n",
              "       [ 0.39590411],\n",
              "       [ 4.22466389],\n",
              "       [ 8.67103996],\n",
              "       [-0.67261323],\n",
              "       [ 9.5799597 ],\n",
              "       [ 3.64353994],\n",
              "       [ 1.82338724],\n",
              "       [ 1.83818366],\n",
              "       [ 1.06775855],\n",
              "       [ 1.92690999],\n",
              "       [ 1.25062118],\n",
              "       [ 6.54587537],\n",
              "       [ 0.50635913],\n",
              "       [-0.99653648],\n",
              "       [ 3.31524048],\n",
              "       [ 7.63353769],\n",
              "       [-0.52886317],\n",
              "       [ 1.31293736],\n",
              "       [ 1.9457891 ],\n",
              "       [ 6.13549687],\n",
              "       [ 0.24412278],\n",
              "       [ 5.22127284],\n",
              "       [ 8.89111568],\n",
              "       [ 6.09865879],\n",
              "       [ 4.10758657],\n",
              "       [ 2.14691102],\n",
              "       [ 3.27651181],\n",
              "       [-0.69835222],\n",
              "       [ 2.54477114],\n",
              "       [ 2.82369508],\n",
              "       [-0.3614091 ],\n",
              "       [ 9.45236461],\n",
              "       [ 5.95548957],\n",
              "       [ 0.99909626],\n",
              "       [ 0.85379201]])"
            ]
          },
          "metadata": {},
          "execution_count": 58
        }
      ]
    },
    {
      "cell_type": "code",
      "source": [
        "plt.scatter(x,y,color='g')\n",
        "plt.xlabel('x dataset')\n",
        "plt.ylabel('y dataset')"
      ],
      "metadata": {
        "colab": {
          "base_uri": "https://localhost:8080/",
          "height": 467
        },
        "id": "Z-P8BVuJJ87u",
        "outputId": "f412cf8f-c298-4ffd-fdf5-7aa12af657b1"
      },
      "execution_count": null,
      "outputs": [
        {
          "output_type": "execute_result",
          "data": {
            "text/plain": [
              "Text(0, 0.5, 'y dataset')"
            ]
          },
          "metadata": {},
          "execution_count": 59
        },
        {
          "output_type": "display_data",
          "data": {
            "text/plain": [
              "<Figure size 640x480 with 1 Axes>"
            ],
            "image/png": "[encoded data removed]"
          },
          "metadata": {}
        }
      ]
    },
    {
      "cell_type": "code",
      "source": [
        "plt.scatter(df,df1,color='g')\n",
        "plt.xlabel('x dataset')\n",
        "plt.ylabel('y dataset')"
      ],
      "metadata": {
        "colab": {
          "base_uri": "https://localhost:8080/",
          "height": 467
        },
        "id": "plpLEH8tP-rp",
        "outputId": "db5f2f57-6a75-4355-b345-97622cc8cd7e"
      },
      "execution_count": null,
      "outputs": [
        {
          "output_type": "execute_result",
          "data": {
            "text/plain": [
              "Text(0, 0.5, 'y dataset')"
            ]
          },
          "metadata": {},
          "execution_count": 60
        },
        {
          "output_type": "display_data",
          "data": {
            "text/plain": [
              "<Figure size 640x480 with 1 Axes>"
            ],
            "image/png": "[encoded data removed]"
          },
          "metadata": {}
        }
      ]
    },
    {
      "cell_type": "code",
      "source": [
        "from sklearn.model_selection import train_test_split"
      ],
      "metadata": {
        "id": "txc-TeeTQemG"
      },
      "execution_count": null,
      "outputs": []
    },
    {
      "cell_type": "code",
      "source": [
        "X_train,X_test,y_train,y_test=train_test_split(x,y,random_state=42,test_size=0.33)"
      ],
      "metadata": {
        "id": "fpCO5cJrRDML"
      },
      "execution_count": null,
      "outputs": []
    },
    {
      "cell_type": "markdown",
      "source": [
        "lets implement simple linear regression"
      ],
      "metadata": {
        "id": "Q0SMkr4sRlLj"
      }
    },
    {
      "cell_type": "code",
      "source": [
        "from sklearn.linear_model import LinearRegression"
      ],
      "metadata": {
        "id": "8OUmyU0iRVWp"
      },
      "execution_count": null,
      "outputs": []
    },
    {
      "cell_type": "code",
      "source": [
        "regression_1=LinearRegression()"
      ],
      "metadata": {
        "id": "13G6TWn1R0sw"
      },
      "execution_count": null,
      "outputs": []
    },
    {
      "cell_type": "code",
      "source": [
        "regression_1.fit(X_train,y_train)"
      ],
      "metadata": {
        "colab": {
          "base_uri": "https://localhost:8080/",
          "height": 74
        },
        "id": "VgEwBqaaSVVa",
        "outputId": "1bff4e50-4ece-499e-9764-dffe8e60aad6"
      },
      "execution_count": null,
      "outputs": [
        {
          "output_type": "execute_result",
          "data": {
            "text/plain": [
              "LinearRegression()"
            ],
            "text/html": [
              "<style>#sk-container-id-2 {color: black;background-color: white;}#sk-container-id-2 pre{padding: 0;}#sk-container-id-2 div.sk-toggleable {background-color: white;}#sk-container-id-2 label.sk-toggleable__label {cursor: pointer;display: block;width: 100%;margin-bottom: 0;padding: 0.3em;box-sizing: border-box;text-align: center;}#sk-container-id-2 label.sk-toggleable__label-arrow:before {content: \"▸\";float: left;margin-right: 0.25em;color: #696969;}#sk-container-id-2 label.sk-toggleable__label-arrow:hover:before {color: black;}#sk-container-id-2 div.sk-estimator:hover label.sk-toggleable__label-arrow:before {color: black;}#sk-container-id-2 div.sk-toggleable__content {max-height: 0;max-width: 0;overflow: hidden;text-align: left;background-color: #f0f8ff;}#sk-container-id-2 div.sk-toggleable__content pre {margin: 0.2em;color: black;border-radius: 0.25em;background-color: #f0f8ff;}#sk-container-id-2 input.sk-toggleable__control:checked~div.sk-toggleable__content {max-height: 200px;max-width: 100%;overflow: auto;}#sk-container-id-2 input.sk-toggleable__control:checked~label.sk-toggleable__label-arrow:before {content: \"▾\";}#sk-container-id-2 div.sk-estimator input.sk-toggleable__control:checked~label.sk-toggleable__label {background-color: #d4ebff;}#sk-container-id-2 div.sk-label input.sk-toggleable__control:checked~label.sk-toggleable__label {background-color: #d4ebff;}#sk-container-id-2 input.sk-hidden--visually {border: 0;clip: rect(1px 1px 1px 1px);clip: rect(1px, 1px, 1px, 1px);height: 1px;margin: -1px;overflow: hidden;padding: 0;position: absolute;width: 1px;}#sk-container-id-2 div.sk-estimator {font-family: monospace;background-color: #f0f8ff;border: 1px dotted black;border-radius: 0.25em;box-sizing: border-box;margin-bottom: 0.5em;}#sk-container-id-2 div.sk-estimator:hover {background-color: #d4ebff;}#sk-container-id-2 div.sk-parallel-item::after {content: \"\";width: 100%;border-bottom: 1px solid gray;flex-grow: 1;}#sk-container-id-2 div.sk-label:hover label.sk-toggleable__label {background-color: #d4ebff;}#sk-container-id-2 div.sk-serial::before {content: \"\";position: absolute;border-left: 1px solid gray;box-sizing: border-box;top: 0;bottom: 0;left: 50%;z-index: 0;}#sk-container-id-2 div.sk-serial {display: flex;flex-direction: column;align-items: center;background-color: white;padding-right: 0.2em;padding-left: 0.2em;position: relative;}#sk-container-id-2 div.sk-item {position: relative;z-index: 1;}#sk-container-id-2 div.sk-parallel {display: flex;align-items: stretch;justify-content: center;background-color: white;position: relative;}#sk-container-id-2 div.sk-item::before, #sk-container-id-2 div.sk-parallel-item::before {content: \"\";position: absolute;border-left: 1px solid gray;box-sizing: border-box;top: 0;bottom: 0;left: 50%;z-index: -1;}#sk-container-id-2 div.sk-parallel-item {display: flex;flex-direction: column;z-index: 1;position: relative;background-color: white;}#sk-container-id-2 div.sk-parallel-item:first-child::after {align-self: flex-end;width: 50%;}#sk-container-id-2 div.sk-parallel-item:last-child::after {align-self: flex-start;width: 50%;}#sk-container-id-2 div.sk-parallel-item:only-child::after {width: 0;}#sk-container-id-2 div.sk-dashed-wrapped {border: 1px dashed gray;margin: 0 0.4em 0.5em 0.4em;box-sizing: border-box;padding-bottom: 0.4em;background-color: white;}#sk-container-id-2 div.sk-label label {font-family: monospace;font-weight: bold;display: inline-block;line-height: 1.2em;}#sk-container-id-2 div.sk-label-container {text-align: center;}#sk-container-id-2 div.sk-container {/* jupyter's `normalize.less` sets `[hidden] { display: none; }` but bootstrap.min.css set `[hidden] { display: none !important; }` so we also need the `!important` here to be able to override the default hidden behavior on the sphinx rendered scikit-learn.org. See: https://github.com/scikit-learn/scikit-learn/issues/21755 */display: inline-block !important;position: relative;}#sk-container-id-2 div.sk-text-repr-fallback {display: none;}</style><div id=\"sk-container-id-2\" class=\"sk-top-container\"><div class=\"sk-text-repr-fallback\"><pre>LinearRegression()</pre><b>In a Jupyter environment, please rerun this cell to show the HTML representation or trust the notebook. <br />On GitHub, the HTML representation is unable to render, please try loading this page with nbviewer.org.</b></div><div class=\"sk-container\" hidden><div class=\"sk-item\"><div class=\"sk-estimator sk-toggleable\"><input class=\"sk-toggleable__control sk-hidden--visually\" id=\"sk-estimator-id-2\" type=\"checkbox\" checked><label for=\"sk-estimator-id-2\" class=\"sk-toggleable__label sk-toggleable__label-arrow\">LinearRegression</label><div class=\"sk-toggleable__content\"><pre>LinearRegression()</pre></div></div></div></div></div>"
            ]
          },
          "metadata": {},
          "execution_count": 65
        }
      ]
    },
    {
      "cell_type": "code",
      "source": [
        "ypred=regression_1.predict(X_test)"
      ],
      "metadata": {
        "id": "2ZTGdGNgICQP"
      },
      "execution_count": null,
      "outputs": []
    },
    {
      "cell_type": "code",
      "source": [
        "from sklearn.metrics import r2_score\n",
        "score=r2_score(y_test,ypred)\n",
        "print(score)"
      ],
      "metadata": {
        "colab": {
          "base_uri": "https://localhost:8080/"
        },
        "id": "0h2MYhOISfpT",
        "outputId": "1c963de4-d403-4392-a99c-2b9044b15ddf"
      },
      "execution_count": null,
      "outputs": [
        {
          "output_type": "stream",
          "name": "stdout",
          "text": [
            "0.4112688377905793\n"
          ]
        }
      ]
    },
    {
      "cell_type": "code",
      "source": [
        "from sklearn.metrics import mean_absolute_error, mean_squared_error\n",
        "mse=mean_squared_error(y_test,ypred)\n",
        "mae=mean_absolute_error(y_test,ypred)\n",
        "rmse=np.sqrt(mse)\n",
        "print(mse)\n",
        "print(mae)\n",
        "print(rmse)"
      ],
      "metadata": {
        "id": "3leefJcu2dh_",
        "colab": {
          "base_uri": "https://localhost:8080/"
        },
        "outputId": "7df8401c-4c15-4a25-dcc2-0c97b66da2b9"
      },
      "execution_count": null,
      "outputs": [
        {
          "output_type": "stream",
          "name": "stdout",
          "text": [
            "6.086623555441901\n",
            "2.0698124712377672\n",
            "2.4671083388132553\n"
          ]
        }
      ]
    },
    {
      "cell_type": "code",
      "source": [
        "plt.plot(X_train,regression_1.predict(X_train),color=\"g\")\n",
        "plt.scatter(X_train,y_train)\n",
        "plt.xlabel('X dataset')\n",
        "plt.ylabel('y dataset')"
      ],
      "metadata": {
        "colab": {
          "base_uri": "https://localhost:8080/",
          "height": 471
        },
        "id": "sixbJbDHS-OV",
        "outputId": "ea78804a-b2c4-4608-8453-982027058dc7"
      },
      "execution_count": null,
      "outputs": [
        {
          "output_type": "execute_result",
          "data": {
            "text/plain": [
              "Text(0, 0.5, 'y dataset')"
            ]
          },
          "metadata": {},
          "execution_count": 69
        },
        {
          "output_type": "display_data",
          "data": {
            "text/plain": [
              "<Figure size 640x480 with 1 Axes>"
            ],
            "image/png": "[encoded data removed]"
          },
          "metadata": {}
        }
      ]
    },
    {
      "cell_type": "markdown",
      "source": [
        "lets apply polynomila transformation"
      ],
      "metadata": {
        "id": "BBTQ0JXFVDEA"
      }
    },
    {
      "cell_type": "code",
      "source": [
        "from sklearn.preprocessing import PolynomialFeatures"
      ],
      "metadata": {
        "id": "ZvpePocTUM4u"
      },
      "execution_count": null,
      "outputs": []
    },
    {
      "cell_type": "code",
      "source": [
        "poly=PolynomialFeatures(degree=2,include_bias=True)\n",
        "X_train_poly=poly.fit_transform(X_train)\n",
        "X_test_poly=poly.transform(X_test)"
      ],
      "metadata": {
        "id": "VDZqZiYEVWGm"
      },
      "execution_count": null,
      "outputs": []
    },
    {
      "cell_type": "code",
      "source": [
        "X_train_poly"
      ],
      "metadata": {
        "id": "_OkWALFHVo52",
        "colab": {
          "base_uri": "https://localhost:8080/"
        },
        "outputId": "7963a5a7-0937-4e4e-da6f-8f7e78612ad0"
      },
      "execution_count": null,
      "outputs": [
        {
          "output_type": "execute_result",
          "data": {
            "text/plain": [
              "array([[ 1.00000000e+00, -1.07414130e+00,  1.15377954e+00],\n",
              "       [ 1.00000000e+00,  7.41808942e-01,  5.50280507e-01],\n",
              "       [ 1.00000000e+00, -1.38170398e-01,  1.90910588e-02],\n",
              "       [ 1.00000000e+00,  2.82051584e-01,  7.95530963e-02],\n",
              "       [ 1.00000000e+00,  7.32314289e-01,  5.36284218e-01],\n",
              "       [ 1.00000000e+00, -1.10520902e+00,  1.22148697e+00],\n",
              "       [ 1.00000000e+00,  2.30758407e+00,  5.32494425e+00],\n",
              "       [ 1.00000000e+00,  1.21038549e+00,  1.46503303e+00],\n",
              "       [ 1.00000000e+00,  1.08711796e+00,  1.18182547e+00],\n",
              "       [ 1.00000000e+00,  5.93687195e-01,  3.52464486e-01],\n",
              "       [ 1.00000000e+00, -2.77204461e+00,  7.68423133e+00],\n",
              "       [ 1.00000000e+00, -1.04668905e-01,  1.09555797e-02],\n",
              "       [ 1.00000000e+00,  9.48248292e-01,  8.99174824e-01],\n",
              "       [ 1.00000000e+00, -2.33739593e+00,  5.46341974e+00],\n",
              "       [ 1.00000000e+00, -5.68637916e-01,  3.23349079e-01],\n",
              "       [ 1.00000000e+00, -1.72118779e+00,  2.96248742e+00],\n",
              "       [ 1.00000000e+00, -1.27653797e+00,  1.62954919e+00],\n",
              "       [ 1.00000000e+00,  2.15413313e+00,  4.64028954e+00],\n",
              "       [ 1.00000000e+00,  3.62279617e-01,  1.31246521e-01],\n",
              "       [ 1.00000000e+00,  1.29342570e+00,  1.67295003e+00],\n",
              "       [ 1.00000000e+00, -1.08754134e+00,  1.18274616e+00],\n",
              "       [ 1.00000000e+00, -2.86526069e+00,  8.20971884e+00],\n",
              "       [ 1.00000000e+00, -4.61397046e-01,  2.12887234e-01],\n",
              "       [ 1.00000000e+00, -2.10833740e+00,  4.44508660e+00],\n",
              "       [ 1.00000000e+00,  1.47105089e+00,  2.16399073e+00],\n",
              "       [ 1.00000000e+00, -1.67115437e+00,  2.79275694e+00],\n",
              "       [ 1.00000000e+00,  1.59839367e-01,  2.55486232e-02],\n",
              "       [ 1.00000000e+00, -2.11566768e+00,  4.47604972e+00],\n",
              "       [ 1.00000000e+00, -1.69218454e+00,  2.86348852e+00],\n",
              "       [ 1.00000000e+00, -1.55289902e+00,  2.41149538e+00],\n",
              "       [ 1.00000000e+00,  2.18485623e+00,  4.77359676e+00],\n",
              "       [ 1.00000000e+00,  5.14125521e-02,  2.64325052e-03],\n",
              "       [ 1.00000000e+00,  2.03773391e+00,  4.15235950e+00],\n",
              "       [ 1.00000000e+00,  1.57447278e-01,  2.47896454e-02],\n",
              "       [ 1.00000000e+00, -7.42887692e-01,  5.51882123e-01],\n",
              "       [ 1.00000000e+00,  1.55403058e+00,  2.41501106e+00],\n",
              "       [ 1.00000000e+00,  1.55769842e+00,  2.42642437e+00],\n",
              "       [ 1.00000000e+00, -2.92433763e+00,  8.55175055e+00],\n",
              "       [ 1.00000000e+00,  1.95304594e+00,  3.81438845e+00],\n",
              "       [ 1.00000000e+00,  7.99820857e-01,  6.39713403e-01],\n",
              "       [ 1.00000000e+00,  1.44132142e+00,  2.07740743e+00],\n",
              "       [ 1.00000000e+00, -1.29150260e+00,  1.66797897e+00],\n",
              "       [ 1.00000000e+00,  1.76908899e-01,  3.12967586e-02],\n",
              "       [ 1.00000000e+00, -9.11928102e-01,  8.31612862e-01],\n",
              "       [ 1.00000000e+00,  5.72611237e-01,  3.27883629e-01],\n",
              "       [ 1.00000000e+00, -1.64543071e+00,  2.70744222e+00],\n",
              "       [ 1.00000000e+00, -1.36611403e+00,  1.86626753e+00],\n",
              "       [ 1.00000000e+00, -2.42056653e+00,  5.85914232e+00],\n",
              "       [ 1.00000000e+00,  1.16143768e+00,  1.34893749e+00],\n",
              "       [ 1.00000000e+00, -2.07060956e+00,  4.28742394e+00],\n",
              "       [ 1.00000000e+00,  1.55288173e+00,  2.41144168e+00],\n",
              "       [ 1.00000000e+00,  1.49755061e+00,  2.24265784e+00],\n",
              "       [ 1.00000000e+00, -1.55523066e+00,  2.41874241e+00],\n",
              "       [ 1.00000000e+00,  2.93134323e+00,  8.59277313e+00],\n",
              "       [ 1.00000000e+00, -2.74534320e+00,  7.53690929e+00],\n",
              "       [ 1.00000000e+00,  1.26677734e+00,  1.60472482e+00],\n",
              "       [ 1.00000000e+00,  1.76459699e+00,  3.11380255e+00],\n",
              "       [ 1.00000000e+00,  8.05996067e-01,  6.49629659e-01],\n",
              "       [ 1.00000000e+00, -2.65870921e+00,  7.06873466e+00],\n",
              "       [ 1.00000000e+00,  1.48926259e+00,  2.21790305e+00],\n",
              "       [ 1.00000000e+00, -2.59543075e+00,  6.73626077e+00],\n",
              "       [ 1.00000000e+00,  8.52271390e-01,  7.26366523e-01],\n",
              "       [ 1.00000000e+00, -2.72858518e+00,  7.44517708e+00],\n",
              "       [ 1.00000000e+00, -6.49654207e-02,  4.22050589e-03],\n",
              "       [ 1.00000000e+00, -1.90981930e+00,  3.64740977e+00],\n",
              "       [ 1.00000000e+00, -2.54100507e+00,  6.45670678e+00],\n",
              "       [ 1.00000000e+00,  1.17377117e+00,  1.37773875e+00]])"
            ]
          },
          "metadata": {},
          "execution_count": 72
        }
      ]
    },
    {
      "cell_type": "code",
      "source": [
        "X_test_poly"
      ],
      "metadata": {
        "id": "AhHvBSTuXBHt",
        "colab": {
          "base_uri": "https://localhost:8080/"
        },
        "outputId": "113e96a7-27e9-48e5-93e4-622940d63dac"
      },
      "execution_count": null,
      "outputs": [
        {
          "output_type": "execute_result",
          "data": {
            "text/plain": [
              "array([[ 1.00000000e+00,  2.83654787e-02,  8.04600383e-04],\n",
              "       [ 1.00000000e+00, -2.07458098e+00,  4.30388624e+00],\n",
              "       [ 1.00000000e+00,  1.38303104e+00,  1.91277487e+00],\n",
              "       [ 1.00000000e+00, -1.38749982e+00,  1.92515574e+00],\n",
              "       [ 1.00000000e+00,  8.49514667e-01,  7.21675169e-01],\n",
              "       [ 1.00000000e+00,  1.83058381e+00,  3.35103707e+00],\n",
              "       [ 1.00000000e+00,  1.33965520e+00,  1.79467605e+00],\n",
              "       [ 1.00000000e+00,  1.55005880e+00,  2.40268228e+00],\n",
              "       [ 1.00000000e+00, -2.78106539e+00,  7.73432473e+00],\n",
              "       [ 1.00000000e+00, -1.16966886e+00,  1.36812524e+00],\n",
              "       [ 1.00000000e+00,  7.37289760e-01,  5.43596191e-01],\n",
              "       [ 1.00000000e+00, -4.58596961e-01,  2.10311173e-01],\n",
              "       [ 1.00000000e+00, -1.58562178e+00,  2.51419644e+00],\n",
              "       [ 1.00000000e+00,  9.92286446e-01,  9.84632391e-01],\n",
              "       [ 1.00000000e+00,  1.01811557e+00,  1.03655931e+00],\n",
              "       [ 1.00000000e+00, -3.94149521e-01,  1.55353845e-01],\n",
              "       [ 1.00000000e+00,  1.62120979e+00,  2.62832117e+00],\n",
              "       [ 1.00000000e+00,  1.79969542e-01,  3.23890361e-02],\n",
              "       [ 1.00000000e+00,  3.60856484e-01,  1.30217402e-01],\n",
              "       [ 1.00000000e+00, -3.42379447e-01,  1.17223686e-01],\n",
              "       [ 1.00000000e+00,  3.58426047e-01,  1.28469231e-01],\n",
              "       [ 1.00000000e+00,  2.11016718e+00,  4.45280552e+00],\n",
              "       [ 1.00000000e+00,  7.68153973e-02,  5.90060526e-03],\n",
              "       [ 1.00000000e+00, -2.45060513e+00,  6.00546552e+00],\n",
              "       [ 1.00000000e+00,  2.13984891e+00,  4.57895335e+00],\n",
              "       [ 1.00000000e+00,  1.81650237e+00,  3.29968086e+00],\n",
              "       [ 1.00000000e+00, -7.53350762e-01,  5.67537370e-01],\n",
              "       [ 1.00000000e+00,  2.12806802e+00,  4.52867348e+00],\n",
              "       [ 1.00000000e+00,  2.94209700e+00,  8.65593473e+00],\n",
              "       [ 1.00000000e+00, -8.81398732e-02,  7.76863724e-03],\n",
              "       [ 1.00000000e+00,  1.47977792e+00,  2.18974271e+00],\n",
              "       [ 1.00000000e+00, -4.42633765e-01,  1.95924650e-01],\n",
              "       [ 1.00000000e+00,  2.17508760e-01,  4.73100605e-02]])"
            ]
          },
          "metadata": {},
          "execution_count": 73
        }
      ]
    },
    {
      "cell_type": "code",
      "source": [
        "from sklearn.metrics import r2_score\n",
        "regression=LinearRegression()\n",
        "regression.fit(X_train_poly,y_train)\n",
        "y_pred=regression.predict(X_test_poly)\n",
        "score=r2_score(y_test,y_pred)\n",
        "print(score)"
      ],
      "metadata": {
        "colab": {
          "base_uri": "https://localhost:8080/"
        },
        "id": "G-R3GP2eXFIJ",
        "outputId": "b57d1b59-a634-4b84-e691-18571ca73dde"
      },
      "execution_count": null,
      "outputs": [
        {
          "output_type": "stream",
          "name": "stdout",
          "text": [
            "0.6887564703704567\n"
          ]
        }
      ]
    },
    {
      "cell_type": "code",
      "source": [
        "print(regression.coef_)"
      ],
      "metadata": {
        "colab": {
          "base_uri": "https://localhost:8080/"
        },
        "id": "WcMbVBm7YTBx",
        "outputId": "f5bfb526-a4e3-44d9-fd37-ff278ea2fd2b"
      },
      "execution_count": null,
      "outputs": [
        {
          "output_type": "stream",
          "name": "stdout",
          "text": [
            "[[0.         1.38455336 0.40343827]]\n"
          ]
        }
      ]
    },
    {
      "cell_type": "code",
      "source": [
        "print(regression.intercept_)"
      ],
      "metadata": {
        "colab": {
          "base_uri": "https://localhost:8080/"
        },
        "id": "3MdHHKV-Yo-G",
        "outputId": "9611601a-44c8-4cee-ea32-6f9d90ad905b"
      },
      "execution_count": null,
      "outputs": [
        {
          "output_type": "stream",
          "name": "stdout",
          "text": [
            "[2.24027839]\n"
          ]
        }
      ]
    },
    {
      "cell_type": "code",
      "source": [
        "plt.scatter(X_train,regression.predict(X_train_poly))\n"
      ],
      "metadata": {
        "colab": {
          "base_uri": "https://localhost:8080/",
          "height": 448
        },
        "id": "zAT8HQZPZCFB",
        "outputId": "11487f02-8d33-4b4e-c344-6b00f662fa67"
      },
      "execution_count": null,
      "outputs": [
        {
          "output_type": "execute_result",
          "data": {
            "text/plain": [
              "<matplotlib.collections.PathCollection at 0x7ff408cd17e0>"
            ]
          },
          "metadata": {},
          "execution_count": 77
        },
        {
          "output_type": "display_data",
          "data": {
            "text/plain": [
              "<Figure size 640x480 with 1 Axes>"
            ],
            "image/png": "[encoded data removed]"
          },
          "metadata": {}
        }
      ]
    },
    {
      "cell_type": "code",
      "source": [
        "plt.scatter(X_train,regression.predict(X_train_poly))\n",
        "plt.scatter(X_train,y_train)"
      ],
      "metadata": {
        "colab": {
          "base_uri": "https://localhost:8080/",
          "height": 448
        },
        "id": "liJwsFrQJBCn",
        "outputId": "bc0775d9-3674-467a-dea4-00c5ffbac272"
      },
      "execution_count": null,
      "outputs": [
        {
          "output_type": "execute_result",
          "data": {
            "text/plain": [
              "<matplotlib.collections.PathCollection at 0x7ff40871ab30>"
            ]
          },
          "metadata": {},
          "execution_count": 78
        },
        {
          "output_type": "display_data",
          "data": {
            "text/plain": [
              "<Figure size 640x480 with 1 Axes>"
            ],
            "image/png": "[encoded data removed]"
          },
          "metadata": {}
        }
      ]
    },
    {
      "cell_type": "code",
      "source": [
        "poly=PolynomialFeatures(degree=3,include_bias=True)\n",
        "X_train_poly=poly.fit_transform(X_train)\n",
        "X_test_poly=poly.transform(X_test)"
      ],
      "metadata": {
        "id": "Kn3RFyhYcBpl"
      },
      "execution_count": null,
      "outputs": []
    },
    {
      "cell_type": "code",
      "source": [
        "from sklearn.metrics import r2_score\n",
        "regression=LinearRegression()\n",
        "regression.fit(X_train_poly,y_train)\n",
        "y_pred=regression.predict(X_test_poly)\n",
        "score=r2_score(y_test,y_pred)\n",
        "print(score)"
      ],
      "metadata": {
        "id": "8_EfZe8PcwDN",
        "colab": {
          "base_uri": "https://localhost:8080/"
        },
        "outputId": "7bf5622e-2aee-4d19-fced-406636337c1f"
      },
      "execution_count": null,
      "outputs": [
        {
          "output_type": "stream",
          "name": "stdout",
          "text": [
            "0.6915543874997131\n"
          ]
        }
      ]
    },
    {
      "cell_type": "code",
      "source": [
        "plt.scatter(X_train,regression.predict(X_train_poly))\n",
        "plt.scatter(X_train,y_train)"
      ],
      "metadata": {
        "id": "uGY_pzipc6gY",
        "colab": {
          "base_uri": "https://localhost:8080/",
          "height": 448
        },
        "outputId": "22d7b531-5a28-4644-c262-c5c5eafe5d0e"
      },
      "execution_count": null,
      "outputs": [
        {
          "output_type": "execute_result",
          "data": {
            "text/plain": [
              "<matplotlib.collections.PathCollection at 0x7ff408d515a0>"
            ]
          },
          "metadata": {},
          "execution_count": 81
        },
        {
          "output_type": "display_data",
          "data": {
            "text/plain": [
              "<Figure size 640x480 with 1 Axes>"
            ],
            "image/png": "[encoded data removed]"
          },
          "metadata": {}
        }
      ]
    },
    {
      "cell_type": "markdown",
      "source": [
        "prediction of new data"
      ],
      "metadata": {
        "id": "WAC9VWq-dPOT"
      }
    },
    {
      "cell_type": "code",
      "source": [
        "X_new=np.linspace(-3,3,200).reshape(200,1)\n",
        "X_new_poly=poly.transform(X_new)\n",
        "X_new_poly"
      ],
      "metadata": {
        "id": "-gNOO8DWdDnm",
        "colab": {
          "base_uri": "https://localhost:8080/"
        },
        "outputId": "8f203135-6c2c-4104-c171-0a532bd77442"
      },
      "execution_count": null,
      "outputs": [
        {
          "output_type": "execute_result",
          "data": {
            "text/plain": [
              "array([[ 1.00000000e+00, -3.00000000e+00,  9.00000000e+00,\n",
              "        -2.70000000e+01],\n",
              "       [ 1.00000000e+00, -2.96984925e+00,  8.82000455e+00,\n",
              "        -2.61940839e+01],\n",
              "       [ 1.00000000e+00, -2.93969849e+00,  8.64182723e+00,\n",
              "        -2.54043665e+01],\n",
              "       [ 1.00000000e+00, -2.90954774e+00,  8.46546804e+00,\n",
              "        -2.46306834e+01],\n",
              "       [ 1.00000000e+00, -2.87939698e+00,  8.29092700e+00,\n",
              "        -2.38728702e+01],\n",
              "       [ 1.00000000e+00, -2.84924623e+00,  8.11820409e+00,\n",
              "        -2.31307624e+01],\n",
              "       [ 1.00000000e+00, -2.81909548e+00,  7.94729931e+00,\n",
              "        -2.24041955e+01],\n",
              "       [ 1.00000000e+00, -2.78894472e+00,  7.77821267e+00,\n",
              "        -2.16930052e+01],\n",
              "       [ 1.00000000e+00, -2.75879397e+00,  7.61094417e+00,\n",
              "        -2.09970269e+01],\n",
              "       [ 1.00000000e+00, -2.72864322e+00,  7.44549380e+00,\n",
              "        -2.03160961e+01],\n",
              "       [ 1.00000000e+00, -2.69849246e+00,  7.28186157e+00,\n",
              "        -1.96500486e+01],\n",
              "       [ 1.00000000e+00, -2.66834171e+00,  7.12004747e+00,\n",
              "        -1.89987196e+01],\n",
              "       [ 1.00000000e+00, -2.63819095e+00,  6.96005151e+00,\n",
              "        -1.83619449e+01],\n",
              "       [ 1.00000000e+00, -2.60804020e+00,  6.80187369e+00,\n",
              "        -1.77395600e+01],\n",
              "       [ 1.00000000e+00, -2.57788945e+00,  6.64551400e+00,\n",
              "        -1.71314004e+01],\n",
              "       [ 1.00000000e+00, -2.54773869e+00,  6.49097245e+00,\n",
              "        -1.65373017e+01],\n",
              "       [ 1.00000000e+00, -2.51758794e+00,  6.33824903e+00,\n",
              "        -1.59570993e+01],\n",
              "       [ 1.00000000e+00, -2.48743719e+00,  6.18734375e+00,\n",
              "        -1.53906289e+01],\n",
              "       [ 1.00000000e+00, -2.45728643e+00,  6.03825661e+00,\n",
              "        -1.48377260e+01],\n",
              "       [ 1.00000000e+00, -2.42713568e+00,  5.89098760e+00,\n",
              "        -1.42982262e+01],\n",
              "       [ 1.00000000e+00, -2.39698492e+00,  5.74553673e+00,\n",
              "        -1.37719649e+01],\n",
              "       [ 1.00000000e+00, -2.36683417e+00,  5.60190399e+00,\n",
              "        -1.32587778e+01],\n",
              "       [ 1.00000000e+00, -2.33668342e+00,  5.46008939e+00,\n",
              "        -1.27585003e+01],\n",
              "       [ 1.00000000e+00, -2.30653266e+00,  5.32009293e+00,\n",
              "        -1.22709681e+01],\n",
              "       [ 1.00000000e+00, -2.27638191e+00,  5.18191460e+00,\n",
              "        -1.17960166e+01],\n",
              "       [ 1.00000000e+00, -2.24623116e+00,  5.04555441e+00,\n",
              "        -1.13334815e+01],\n",
              "       [ 1.00000000e+00, -2.21608040e+00,  4.91101235e+00,\n",
              "        -1.08831982e+01],\n",
              "       [ 1.00000000e+00, -2.18592965e+00,  4.77828843e+00,\n",
              "        -1.04450023e+01],\n",
              "       [ 1.00000000e+00, -2.15577889e+00,  4.64738264e+00,\n",
              "        -1.00187294e+01],\n",
              "       [ 1.00000000e+00, -2.12562814e+00,  4.51829499e+00,\n",
              "        -9.60421498e+00],\n",
              "       [ 1.00000000e+00, -2.09547739e+00,  4.39102548e+00,\n",
              "        -9.20129460e+00],\n",
              "       [ 1.00000000e+00, -2.06532663e+00,  4.26557410e+00,\n",
              "        -8.80980380e+00],\n",
              "       [ 1.00000000e+00, -2.03517588e+00,  4.14194086e+00,\n",
              "        -8.42957813e+00],\n",
              "       [ 1.00000000e+00, -2.00502513e+00,  4.02012575e+00,\n",
              "        -8.06045315e+00],\n",
              "       [ 1.00000000e+00, -1.97487437e+00,  3.90012878e+00,\n",
              "        -7.70226438e+00],\n",
              "       [ 1.00000000e+00, -1.94472362e+00,  3.78194995e+00,\n",
              "        -7.35484739e+00],\n",
              "       [ 1.00000000e+00, -1.91457286e+00,  3.66558925e+00,\n",
              "        -7.01803772e+00],\n",
              "       [ 1.00000000e+00, -1.88442211e+00,  3.55104669e+00,\n",
              "        -6.69167090e+00],\n",
              "       [ 1.00000000e+00, -1.85427136e+00,  3.43832226e+00,\n",
              "        -6.37558249e+00],\n",
              "       [ 1.00000000e+00, -1.82412060e+00,  3.32741597e+00,\n",
              "        -6.06960803e+00],\n",
              "       [ 1.00000000e+00, -1.79396985e+00,  3.21832782e+00,\n",
              "        -5.77358307e+00],\n",
              "       [ 1.00000000e+00, -1.76381910e+00,  3.11105780e+00,\n",
              "        -5.48734316e+00],\n",
              "       [ 1.00000000e+00, -1.73366834e+00,  3.00560592e+00,\n",
              "        -5.21072383e+00],\n",
              "       [ 1.00000000e+00, -1.70351759e+00,  2.90197217e+00,\n",
              "        -4.94356064e+00],\n",
              "       [ 1.00000000e+00, -1.67336683e+00,  2.80015656e+00,\n",
              "        -4.68568912e+00],\n",
              "       [ 1.00000000e+00, -1.64321608e+00,  2.70015909e+00,\n",
              "        -4.43694483e+00],\n",
              "       [ 1.00000000e+00, -1.61306533e+00,  2.60197975e+00,\n",
              "        -4.19716331e+00],\n",
              "       [ 1.00000000e+00, -1.58291457e+00,  2.50561854e+00,\n",
              "        -3.96618011e+00],\n",
              "       [ 1.00000000e+00, -1.55276382e+00,  2.41107548e+00,\n",
              "        -3.74383077e+00],\n",
              "       [ 1.00000000e+00, -1.52261307e+00,  2.31835055e+00,\n",
              "        -3.52995083e+00],\n",
              "       [ 1.00000000e+00, -1.49246231e+00,  2.22744375e+00,\n",
              "        -3.32437585e+00],\n",
              "       [ 1.00000000e+00, -1.46231156e+00,  2.13835509e+00,\n",
              "        -3.12694137e+00],\n",
              "       [ 1.00000000e+00, -1.43216080e+00,  2.05108457e+00,\n",
              "        -2.93748292e+00],\n",
              "       [ 1.00000000e+00, -1.40201005e+00,  1.96563218e+00,\n",
              "        -2.75583607e+00],\n",
              "       [ 1.00000000e+00, -1.37185930e+00,  1.88199793e+00,\n",
              "        -2.58183636e+00],\n",
              "       [ 1.00000000e+00, -1.34170854e+00,  1.80018181e+00,\n",
              "        -2.41531932e+00],\n",
              "       [ 1.00000000e+00, -1.31155779e+00,  1.72018383e+00,\n",
              "        -2.25612051e+00],\n",
              "       [ 1.00000000e+00, -1.28140704e+00,  1.64200399e+00,\n",
              "        -2.10407546e+00],\n",
              "       [ 1.00000000e+00, -1.25125628e+00,  1.56564228e+00,\n",
              "        -1.95901974e+00],\n",
              "       [ 1.00000000e+00, -1.22110553e+00,  1.49109871e+00,\n",
              "        -1.82078888e+00],\n",
              "       [ 1.00000000e+00, -1.19095477e+00,  1.41837327e+00,\n",
              "        -1.68921842e+00],\n",
              "       [ 1.00000000e+00, -1.16080402e+00,  1.34746597e+00,\n",
              "        -1.56414392e+00],\n",
              "       [ 1.00000000e+00, -1.13065327e+00,  1.27837681e+00,\n",
              "        -1.44540091e+00],\n",
              "       [ 1.00000000e+00, -1.10050251e+00,  1.21110578e+00,\n",
              "        -1.33282495e+00],\n",
              "       [ 1.00000000e+00, -1.07035176e+00,  1.14565289e+00,\n",
              "        -1.22625158e+00],\n",
              "       [ 1.00000000e+00, -1.04020101e+00,  1.08201813e+00,\n",
              "        -1.12551635e+00],\n",
              "       [ 1.00000000e+00, -1.01005025e+00,  1.02020151e+00,\n",
              "        -1.03045479e+00],\n",
              "       [ 1.00000000e+00, -9.79899497e-01,  9.60203025e-01,\n",
              "        -9.40902462e-01],\n",
              "       [ 1.00000000e+00, -9.49748744e-01,  9.02022676e-01,\n",
              "        -8.56694904e-01],\n",
              "       [ 1.00000000e+00, -9.19597990e-01,  8.45660463e-01,\n",
              "        -7.77667662e-01],\n",
              "       [ 1.00000000e+00, -8.89447236e-01,  7.91116386e-01,\n",
              "        -7.03656283e-01],\n",
              "       [ 1.00000000e+00, -8.59296482e-01,  7.38390445e-01,\n",
              "        -6.34496312e-01],\n",
              "       [ 1.00000000e+00, -8.29145729e-01,  6.87482639e-01,\n",
              "        -5.70023294e-01],\n",
              "       [ 1.00000000e+00, -7.98994975e-01,  6.38392970e-01,\n",
              "        -5.10072775e-01],\n",
              "       [ 1.00000000e+00, -7.68844221e-01,  5.91121436e-01,\n",
              "        -4.54480300e-01],\n",
              "       [ 1.00000000e+00, -7.38693467e-01,  5.45668039e-01,\n",
              "        -4.03081416e-01],\n",
              "       [ 1.00000000e+00, -7.08542714e-01,  5.02032777e-01,\n",
              "        -3.55711666e-01],\n",
              "       [ 1.00000000e+00, -6.78391960e-01,  4.60215651e-01,\n",
              "        -3.12206597e-01],\n",
              "       [ 1.00000000e+00, -6.48241206e-01,  4.20216661e-01,\n",
              "        -2.72401755e-01],\n",
              "       [ 1.00000000e+00, -6.18090452e-01,  3.82035807e-01,\n",
              "        -2.36132685e-01],\n",
              "       [ 1.00000000e+00, -5.87939698e-01,  3.45673089e-01,\n",
              "        -2.03234932e-01],\n",
              "       [ 1.00000000e+00, -5.57788945e-01,  3.11128507e-01,\n",
              "        -1.73544042e-01],\n",
              "       [ 1.00000000e+00, -5.27638191e-01,  2.78402061e-01,\n",
              "        -1.46895560e-01],\n",
              "       [ 1.00000000e+00, -4.97487437e-01,  2.47493750e-01,\n",
              "        -1.23125031e-01],\n",
              "       [ 1.00000000e+00, -4.67336683e-01,  2.18403576e-01,\n",
              "        -1.02068003e-01],\n",
              "       [ 1.00000000e+00, -4.37185930e-01,  1.91131537e-01,\n",
              "        -8.35600187e-02],\n",
              "       [ 1.00000000e+00, -4.07035176e-01,  1.65677634e-01,\n",
              "        -6.74366251e-02],\n",
              "       [ 1.00000000e+00, -3.76884422e-01,  1.42041868e-01,\n",
              "        -5.35333672e-02],\n",
              "       [ 1.00000000e+00, -3.46733668e-01,  1.20224237e-01,\n",
              "        -4.16857906e-02],\n",
              "       [ 1.00000000e+00, -3.16582915e-01,  1.00224742e-01,\n",
              "        -3.17294409e-02],\n",
              "       [ 1.00000000e+00, -2.86432161e-01,  8.20433827e-02,\n",
              "        -2.34998634e-02],\n",
              "       [ 1.00000000e+00, -2.56281407e-01,  6.56801596e-02,\n",
              "        -1.68326037e-02],\n",
              "       [ 1.00000000e+00, -2.26130653e-01,  5.11350723e-02,\n",
              "        -1.15632073e-02],\n",
              "       [ 1.00000000e+00, -1.95979899e-01,  3.84081210e-02,\n",
              "        -7.52721969e-03],\n",
              "       [ 1.00000000e+00, -1.65829146e-01,  2.74993056e-02,\n",
              "        -4.56018635e-03],\n",
              "       [ 1.00000000e+00, -1.35678392e-01,  1.84086260e-02,\n",
              "        -2.49765278e-03],\n",
              "       [ 1.00000000e+00, -1.05527638e-01,  1.11360824e-02,\n",
              "        -1.17516448e-03],\n",
              "       [ 1.00000000e+00, -7.53768844e-02,  5.68167471e-03,\n",
              "        -4.28266938e-04],\n",
              "       [ 1.00000000e+00, -4.52261307e-02,  2.04540289e-03,\n",
              "        -9.25056585e-05],\n",
              "       [ 1.00000000e+00, -1.50753769e-02,  2.27266988e-04,\n",
              "        -3.42613550e-06],\n",
              "       [ 1.00000000e+00,  1.50753769e-02,  2.27266988e-04,\n",
              "         3.42613550e-06],\n",
              "       [ 1.00000000e+00,  4.52261307e-02,  2.04540289e-03,\n",
              "         9.25056585e-05],\n",
              "       [ 1.00000000e+00,  7.53768844e-02,  5.68167471e-03,\n",
              "         4.28266938e-04],\n",
              "       [ 1.00000000e+00,  1.05527638e-01,  1.11360824e-02,\n",
              "         1.17516448e-03],\n",
              "       [ 1.00000000e+00,  1.35678392e-01,  1.84086260e-02,\n",
              "         2.49765278e-03],\n",
              "       [ 1.00000000e+00,  1.65829146e-01,  2.74993056e-02,\n",
              "         4.56018635e-03],\n",
              "       [ 1.00000000e+00,  1.95979899e-01,  3.84081210e-02,\n",
              "         7.52721969e-03],\n",
              "       [ 1.00000000e+00,  2.26130653e-01,  5.11350723e-02,\n",
              "         1.15632073e-02],\n",
              "       [ 1.00000000e+00,  2.56281407e-01,  6.56801596e-02,\n",
              "         1.68326037e-02],\n",
              "       [ 1.00000000e+00,  2.86432161e-01,  8.20433827e-02,\n",
              "         2.34998634e-02],\n",
              "       [ 1.00000000e+00,  3.16582915e-01,  1.00224742e-01,\n",
              "         3.17294409e-02],\n",
              "       [ 1.00000000e+00,  3.46733668e-01,  1.20224237e-01,\n",
              "         4.16857906e-02],\n",
              "       [ 1.00000000e+00,  3.76884422e-01,  1.42041868e-01,\n",
              "         5.35333672e-02],\n",
              "       [ 1.00000000e+00,  4.07035176e-01,  1.65677634e-01,\n",
              "         6.74366251e-02],\n",
              "       [ 1.00000000e+00,  4.37185930e-01,  1.91131537e-01,\n",
              "         8.35600187e-02],\n",
              "       [ 1.00000000e+00,  4.67336683e-01,  2.18403576e-01,\n",
              "         1.02068003e-01],\n",
              "       [ 1.00000000e+00,  4.97487437e-01,  2.47493750e-01,\n",
              "         1.23125031e-01],\n",
              "       [ 1.00000000e+00,  5.27638191e-01,  2.78402061e-01,\n",
              "         1.46895560e-01],\n",
              "       [ 1.00000000e+00,  5.57788945e-01,  3.11128507e-01,\n",
              "         1.73544042e-01],\n",
              "       [ 1.00000000e+00,  5.87939698e-01,  3.45673089e-01,\n",
              "         2.03234932e-01],\n",
              "       [ 1.00000000e+00,  6.18090452e-01,  3.82035807e-01,\n",
              "         2.36132685e-01],\n",
              "       [ 1.00000000e+00,  6.48241206e-01,  4.20216661e-01,\n",
              "         2.72401755e-01],\n",
              "       [ 1.00000000e+00,  6.78391960e-01,  4.60215651e-01,\n",
              "         3.12206597e-01],\n",
              "       [ 1.00000000e+00,  7.08542714e-01,  5.02032777e-01,\n",
              "         3.55711666e-01],\n",
              "       [ 1.00000000e+00,  7.38693467e-01,  5.45668039e-01,\n",
              "         4.03081416e-01],\n",
              "       [ 1.00000000e+00,  7.68844221e-01,  5.91121436e-01,\n",
              "         4.54480300e-01],\n",
              "       [ 1.00000000e+00,  7.98994975e-01,  6.38392970e-01,\n",
              "         5.10072775e-01],\n",
              "       [ 1.00000000e+00,  8.29145729e-01,  6.87482639e-01,\n",
              "         5.70023294e-01],\n",
              "       [ 1.00000000e+00,  8.59296482e-01,  7.38390445e-01,\n",
              "         6.34496312e-01],\n",
              "       [ 1.00000000e+00,  8.89447236e-01,  7.91116386e-01,\n",
              "         7.03656283e-01],\n",
              "       [ 1.00000000e+00,  9.19597990e-01,  8.45660463e-01,\n",
              "         7.77667662e-01],\n",
              "       [ 1.00000000e+00,  9.49748744e-01,  9.02022676e-01,\n",
              "         8.56694904e-01],\n",
              "       [ 1.00000000e+00,  9.79899497e-01,  9.60203025e-01,\n",
              "         9.40902462e-01],\n",
              "       [ 1.00000000e+00,  1.01005025e+00,  1.02020151e+00,\n",
              "         1.03045479e+00],\n",
              "       [ 1.00000000e+00,  1.04020101e+00,  1.08201813e+00,\n",
              "         1.12551635e+00],\n",
              "       [ 1.00000000e+00,  1.07035176e+00,  1.14565289e+00,\n",
              "         1.22625158e+00],\n",
              "       [ 1.00000000e+00,  1.10050251e+00,  1.21110578e+00,\n",
              "         1.33282495e+00],\n",
              "       [ 1.00000000e+00,  1.13065327e+00,  1.27837681e+00,\n",
              "         1.44540091e+00],\n",
              "       [ 1.00000000e+00,  1.16080402e+00,  1.34746597e+00,\n",
              "         1.56414392e+00],\n",
              "       [ 1.00000000e+00,  1.19095477e+00,  1.41837327e+00,\n",
              "         1.68921842e+00],\n",
              "       [ 1.00000000e+00,  1.22110553e+00,  1.49109871e+00,\n",
              "         1.82078888e+00],\n",
              "       [ 1.00000000e+00,  1.25125628e+00,  1.56564228e+00,\n",
              "         1.95901974e+00],\n",
              "       [ 1.00000000e+00,  1.28140704e+00,  1.64200399e+00,\n",
              "         2.10407546e+00],\n",
              "       [ 1.00000000e+00,  1.31155779e+00,  1.72018383e+00,\n",
              "         2.25612051e+00],\n",
              "       [ 1.00000000e+00,  1.34170854e+00,  1.80018181e+00,\n",
              "         2.41531932e+00],\n",
              "       [ 1.00000000e+00,  1.37185930e+00,  1.88199793e+00,\n",
              "         2.58183636e+00],\n",
              "       [ 1.00000000e+00,  1.40201005e+00,  1.96563218e+00,\n",
              "         2.75583607e+00],\n",
              "       [ 1.00000000e+00,  1.43216080e+00,  2.05108457e+00,\n",
              "         2.93748292e+00],\n",
              "       [ 1.00000000e+00,  1.46231156e+00,  2.13835509e+00,\n",
              "         3.12694137e+00],\n",
              "       [ 1.00000000e+00,  1.49246231e+00,  2.22744375e+00,\n",
              "         3.32437585e+00],\n",
              "       [ 1.00000000e+00,  1.52261307e+00,  2.31835055e+00,\n",
              "         3.52995083e+00],\n",
              "       [ 1.00000000e+00,  1.55276382e+00,  2.41107548e+00,\n",
              "         3.74383077e+00],\n",
              "       [ 1.00000000e+00,  1.58291457e+00,  2.50561854e+00,\n",
              "         3.96618011e+00],\n",
              "       [ 1.00000000e+00,  1.61306533e+00,  2.60197975e+00,\n",
              "         4.19716331e+00],\n",
              "       [ 1.00000000e+00,  1.64321608e+00,  2.70015909e+00,\n",
              "         4.43694483e+00],\n",
              "       [ 1.00000000e+00,  1.67336683e+00,  2.80015656e+00,\n",
              "         4.68568912e+00],\n",
              "       [ 1.00000000e+00,  1.70351759e+00,  2.90197217e+00,\n",
              "         4.94356064e+00],\n",
              "       [ 1.00000000e+00,  1.73366834e+00,  3.00560592e+00,\n",
              "         5.21072383e+00],\n",
              "       [ 1.00000000e+00,  1.76381910e+00,  3.11105780e+00,\n",
              "         5.48734316e+00],\n",
              "       [ 1.00000000e+00,  1.79396985e+00,  3.21832782e+00,\n",
              "         5.77358307e+00],\n",
              "       [ 1.00000000e+00,  1.82412060e+00,  3.32741597e+00,\n",
              "         6.06960803e+00],\n",
              "       [ 1.00000000e+00,  1.85427136e+00,  3.43832226e+00,\n",
              "         6.37558249e+00],\n",
              "       [ 1.00000000e+00,  1.88442211e+00,  3.55104669e+00,\n",
              "         6.69167090e+00],\n",
              "       [ 1.00000000e+00,  1.91457286e+00,  3.66558925e+00,\n",
              "         7.01803772e+00],\n",
              "       [ 1.00000000e+00,  1.94472362e+00,  3.78194995e+00,\n",
              "         7.35484739e+00],\n",
              "       [ 1.00000000e+00,  1.97487437e+00,  3.90012878e+00,\n",
              "         7.70226438e+00],\n",
              "       [ 1.00000000e+00,  2.00502513e+00,  4.02012575e+00,\n",
              "         8.06045315e+00],\n",
              "       [ 1.00000000e+00,  2.03517588e+00,  4.14194086e+00,\n",
              "         8.42957813e+00],\n",
              "       [ 1.00000000e+00,  2.06532663e+00,  4.26557410e+00,\n",
              "         8.80980380e+00],\n",
              "       [ 1.00000000e+00,  2.09547739e+00,  4.39102548e+00,\n",
              "         9.20129460e+00],\n",
              "       [ 1.00000000e+00,  2.12562814e+00,  4.51829499e+00,\n",
              "         9.60421498e+00],\n",
              "       [ 1.00000000e+00,  2.15577889e+00,  4.64738264e+00,\n",
              "         1.00187294e+01],\n",
              "       [ 1.00000000e+00,  2.18592965e+00,  4.77828843e+00,\n",
              "         1.04450023e+01],\n",
              "       [ 1.00000000e+00,  2.21608040e+00,  4.91101235e+00,\n",
              "         1.08831982e+01],\n",
              "       [ 1.00000000e+00,  2.24623116e+00,  5.04555441e+00,\n",
              "         1.13334815e+01],\n",
              "       [ 1.00000000e+00,  2.27638191e+00,  5.18191460e+00,\n",
              "         1.17960166e+01],\n",
              "       [ 1.00000000e+00,  2.30653266e+00,  5.32009293e+00,\n",
              "         1.22709681e+01],\n",
              "       [ 1.00000000e+00,  2.33668342e+00,  5.46008939e+00,\n",
              "         1.27585003e+01],\n",
              "       [ 1.00000000e+00,  2.36683417e+00,  5.60190399e+00,\n",
              "         1.32587778e+01],\n",
              "       [ 1.00000000e+00,  2.39698492e+00,  5.74553673e+00,\n",
              "         1.37719649e+01],\n",
              "       [ 1.00000000e+00,  2.42713568e+00,  5.89098760e+00,\n",
              "         1.42982262e+01],\n",
              "       [ 1.00000000e+00,  2.45728643e+00,  6.03825661e+00,\n",
              "         1.48377260e+01],\n",
              "       [ 1.00000000e+00,  2.48743719e+00,  6.18734375e+00,\n",
              "         1.53906289e+01],\n",
              "       [ 1.00000000e+00,  2.51758794e+00,  6.33824903e+00,\n",
              "         1.59570993e+01],\n",
              "       [ 1.00000000e+00,  2.54773869e+00,  6.49097245e+00,\n",
              "         1.65373017e+01],\n",
              "       [ 1.00000000e+00,  2.57788945e+00,  6.64551400e+00,\n",
              "         1.71314004e+01],\n",
              "       [ 1.00000000e+00,  2.60804020e+00,  6.80187369e+00,\n",
              "         1.77395600e+01],\n",
              "       [ 1.00000000e+00,  2.63819095e+00,  6.96005151e+00,\n",
              "         1.83619449e+01],\n",
              "       [ 1.00000000e+00,  2.66834171e+00,  7.12004747e+00,\n",
              "         1.89987196e+01],\n",
              "       [ 1.00000000e+00,  2.69849246e+00,  7.28186157e+00,\n",
              "         1.96500486e+01],\n",
              "       [ 1.00000000e+00,  2.72864322e+00,  7.44549380e+00,\n",
              "         2.03160961e+01],\n",
              "       [ 1.00000000e+00,  2.75879397e+00,  7.61094417e+00,\n",
              "         2.09970269e+01],\n",
              "       [ 1.00000000e+00,  2.78894472e+00,  7.77821267e+00,\n",
              "         2.16930052e+01],\n",
              "       [ 1.00000000e+00,  2.81909548e+00,  7.94729931e+00,\n",
              "         2.24041955e+01],\n",
              "       [ 1.00000000e+00,  2.84924623e+00,  8.11820409e+00,\n",
              "         2.31307624e+01],\n",
              "       [ 1.00000000e+00,  2.87939698e+00,  8.29092700e+00,\n",
              "         2.38728702e+01],\n",
              "       [ 1.00000000e+00,  2.90954774e+00,  8.46546804e+00,\n",
              "         2.46306834e+01],\n",
              "       [ 1.00000000e+00,  2.93969849e+00,  8.64182723e+00,\n",
              "         2.54043665e+01],\n",
              "       [ 1.00000000e+00,  2.96984925e+00,  8.82000455e+00,\n",
              "         2.61940839e+01],\n",
              "       [ 1.00000000e+00,  3.00000000e+00,  9.00000000e+00,\n",
              "         2.70000000e+01]])"
            ]
          },
          "metadata": {},
          "execution_count": 82
        }
      ]
    },
    {
      "cell_type": "code",
      "source": [
        "y_new = regression.predict(X_new_poly)\n",
        "plt.plot(X_new, y_new, \"r-\", linewidth=2, label=\" New Predictions\")\n",
        "plt.plot(X_train, y_train, \"b.\",label='Training points')\n",
        "plt.plot(X_test, y_test, \"g.\",label='Testing points')\n",
        "plt.xlabel(\"X\")\n",
        "plt.ylabel(\"y\")\n",
        "plt.legend()\n",
        "plt.show()"
      ],
      "metadata": {
        "id": "yBiluDIydsXX",
        "colab": {
          "base_uri": "https://localhost:8080/",
          "height": 449
        },
        "outputId": "47a15023-a538-4887-a957-ba65f3d6bdb4"
      },
      "execution_count": null,
      "outputs": [
        {
          "output_type": "display_data",
          "data": {
            "text/plain": [
              "<Figure size 640x480 with 1 Axes>"
            ],
            "image/png": "[encoded data removed]"
          },
          "metadata": {}
        }
      ]
    },
    {
      "cell_type": "code",
      "source": [
        "\n",
        "def poly_regression(degree):\n",
        "    X_new = np.linspace(-3, 3, 200).reshape(200, 1)\n",
        "\n",
        "    poly_features=PolynomialFeatures(degree=degree,include_bias=True)\n",
        "    lin_reg=LinearRegression()\n",
        "    poly_regression=Pipeline([\n",
        "        (\"poly_features\",poly_features),\n",
        "        (\"lin_reg\",lin_reg)\n",
        "    ])\n",
        "    poly_regression.fit(X_train,y_train) ## ploynomial and fit of linear reression\n",
        "    y_pred_new=poly_regression.predict(X_new)\n",
        "    #plotting prediction line\n",
        "    plt.plot(X_new, y_pred_new,'r', label=\"Degree \" + str(degree), linewidth=2)\n",
        "    plt.plot(X_train, y_train, \"b.\", linewidth=3)\n",
        "    plt.plot(X_test, y_test, \"g.\", linewidth=3)\n",
        "    plt.legend(loc=\"upper left\")\n",
        "    plt.xlabel(\"X\")\n",
        "    plt.ylabel(\"y\")\n",
        "    plt.axis([-4,4, 0, 10])\n",
        "    plt.show()"
      ],
      "metadata": {
        "id": "s8p-OWXNfA0M"
      },
      "execution_count": null,
      "outputs": []
    },
    {
      "cell_type": "code",
      "source": [
        "\n",
        "from sklearn.pipeline import Pipeline\n",
        "poly_regression(6)"
      ],
      "metadata": {
        "id": "HRedoLXEfDYH",
        "colab": {
          "base_uri": "https://localhost:8080/",
          "height": 455
        },
        "outputId": "5945927f-33fa-43ae-8039-8c4d16a14841"
      },
      "execution_count": null,
      "outputs": [
        {
          "output_type": "display_data",
          "data": {
            "text/plain": [
              "<Figure size 640x480 with 1 Axes>"
            ],
            "image/png": "[encoded data removed]"
          },
          "metadata": {}
        }
      ]
    },
    {
      "cell_type": "code",
      "source": [],
      "metadata": {
        "id": "mjm09Gm4fK4i"
      },
      "execution_count": null,
      "outputs": []
    }
  ]
}